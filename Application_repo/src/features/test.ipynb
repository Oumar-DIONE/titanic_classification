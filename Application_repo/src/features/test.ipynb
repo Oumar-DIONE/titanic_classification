{
 "cells": [
  {
   "cell_type": "code",
   "execution_count": 1,
   "metadata": {},
   "outputs": [],
   "source": [
    "import sys\n",
    "import os\n"
   ]
  },
  {
   "cell_type": "code",
   "execution_count": 10,
   "metadata": {},
   "outputs": [],
   "source": [
    "# Obtenir le chemin absolu du répertoire courant de main.py\n",
    "current_dir = current_dir = os.getcwd()\n",
    "\n",
    "# Construire le chemin relatif vers parent\n",
    "parent_dir = os.path.abspath(os.path.join(current_dir, '..'))"
   ]
  },
  {
   "cell_type": "code",
   "execution_count": 11,
   "metadata": {},
   "outputs": [
    {
     "name": "stdout",
     "output_type": "stream",
     "text": [
      "/home/onyxia/work/titanic_classification/Application_repo/src\n"
     ]
    }
   ],
   "source": [
    "print(parent_dir)\n"
   ]
  },
  {
   "cell_type": "code",
   "execution_count": null,
   "metadata": {},
   "outputs": [],
   "source": [
    "mc alias set mon_depot2 https://minio.lab.sspcloud.fr $ACCESS_KEY $SECRET_KEY --api S3v4 --insecure --session-token $SESSION_TOKEN\n",
    "mc alias set myS3 https://s3.amazon.com/minio.lab.sspcloud.fr $ACCESS_KEY $SECRET_KEY\n",
    "mc alias set mon_depot2 https://minio.lab.sspcloud.fr $ACCESS_KEY $SECRET_KEY --api S3v4 --insecure\n",
    "\n",
    "\n",
    "  "
   ]
  }
 ],
 "metadata": {
  "kernelspec": {
   "display_name": "Python 3",
   "language": "python",
   "name": "python3"
  },
  "language_info": {
   "codemirror_mode": {
    "name": "ipython",
    "version": 3
   },
   "file_extension": ".py",
   "mimetype": "text/x-python",
   "name": "python",
   "nbconvert_exporter": "python",
   "pygments_lexer": "ipython3",
   "version": "3.10.12"
  }
 },
 "nbformat": 4,
 "nbformat_minor": 2
}
